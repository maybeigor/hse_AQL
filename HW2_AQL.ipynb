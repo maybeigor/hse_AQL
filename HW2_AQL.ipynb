{
  "cells": [
    {
      "cell_type": "markdown",
      "id": "c3671993",
      "metadata": {
        "id": "c3671993"
      },
      "source": [
        "# HW2 - Applied Quantitative Logistics\n",
        "\n",
        "Let's consider cargo transportation between two countries. We have a set of containers with different weights. Our goal is to minimize the number of shipments between two countries to minimize the cost of the system.\n",
        "\n",
        "In this problem, our ships have a limited capacity to load containers for each shipment. Try to minimize the system by a Brute Force Algorithm and find the solution.\n",
        "\n",
        "\n",
        "Instruction for submission:\n",
        "\n",
        "- Please submit your solutions in (.ipynb) format to my email XX.\n",
        "\n",
        "- Deadline: **February 10, 2023, 11:59 pm.**\n",
        "\n",
        "- The subject of the email: **[HW2_AQL]-YOUR_NAME**"
      ]
    },
    {
      "cell_type": "code",
      "execution_count": null,
      "id": "959fca76",
      "metadata": {
        "id": "959fca76"
      },
      "outputs": [],
      "source": [
        "# cargo dictionary - contains the list of the containers to be moved by ship and the weight\n",
        "\n",
        "cargo = {'Continer1': 19,\n",
        " 'Continer2': 29,\n",
        " 'Continer3': 43,\n",
        " 'Continer4': 45,\n",
        " 'Continer5': 32,\n",
        " 'Continer6': 22,\n",
        " 'Continer7': 51,\n",
        " 'Continer8': 65,\n",
        " 'Continer9': 31,\n",
        " 'Continer10': 13,\n",
        " 'Continer11': 62}\n",
        "\n",
        "# shipment_limit - the maximum weight for the shipment by a ship\n",
        "shipment_limit = 80     "
      ]
    },
    {
      "cell_type": "markdown",
      "id": "d04de841",
      "metadata": {
        "id": "d04de841"
      },
      "source": [
        "### attempt 1\n",
        "Sort in reverse order and let's pick cargo one at a time starting from the biggest."
      ]
    },
    {
      "cell_type": "code",
      "execution_count": null,
      "id": "a372c48d",
      "metadata": {
        "id": "a372c48d",
        "outputId": "e8468b93-9a1c-4546-b095-4acaaadb2231"
      },
      "outputs": [
        {
          "data": {
            "text/plain": [
              "{'Continer8': 65,\n",
              " 'Continer11': 62,\n",
              " 'Continer7': 51,\n",
              " 'Continer4': 45,\n",
              " 'Continer3': 43,\n",
              " 'Continer5': 32,\n",
              " 'Continer9': 31,\n",
              " 'Continer2': 29,\n",
              " 'Continer6': 22,\n",
              " 'Continer1': 19,\n",
              " 'Continer10': 13}"
            ]
          },
          "execution_count": 19,
          "metadata": {},
          "output_type": "execute_result"
        }
      ],
      "source": [
        "cargo = {k:v for k, v in sorted(cargo.items(), key=lambda item: item[1], reverse=True)}\n",
        "cargo"
      ]
    },
    {
      "cell_type": "code",
      "execution_count": null,
      "id": "f379fa0f",
      "metadata": {
        "id": "f379fa0f"
      },
      "outputs": [],
      "source": [
        "cur_shipment_size = 0\n",
        "cur_shipment = []\n",
        "shipments = []\n",
        "for items in cargo.items():\n",
        "    if cur_shipment_size + items[1] <= shipment_limit:\n",
        "        cur_shipment.append(items)\n",
        "        cur_shipment_size += items[1]\n",
        "    else:\n",
        "        if cur_shipment:\n",
        "            shipments.append(cur_shipment)\n",
        "        cur_shipment = [items]\n",
        "        cur_shipment_size = items[1]\n",
        "shipments.append(cur_shipment)"
      ]
    },
    {
      "cell_type": "code",
      "execution_count": null,
      "id": "69a46479",
      "metadata": {
        "id": "69a46479",
        "outputId": "0b07ad7d-c685-49fa-9c3f-0f1398c2c07e"
      },
      "outputs": [
        {
          "data": {
            "text/plain": [
              "7"
            ]
          },
          "execution_count": 24,
          "metadata": {},
          "output_type": "execute_result"
        }
      ],
      "source": [
        "len(shipments)"
      ]
    },
    {
      "cell_type": "code",
      "execution_count": null,
      "id": "73f076a8",
      "metadata": {
        "id": "73f076a8",
        "outputId": "54ed8caf-15a4-47b1-f973-2098bb1e42d5"
      },
      "outputs": [
        {
          "data": {
            "text/plain": [
              "[[('Continer1', 19), ('Continer2', 29)],\n",
              " [('Continer3', 43)],\n",
              " [('Continer4', 45), ('Continer5', 32)],\n",
              " [('Continer6', 22), ('Continer7', 51)],\n",
              " [('Continer8', 65)],\n",
              " [('Continer9', 31), ('Continer10', 13)],\n",
              " [('Continer11', 62)]]"
            ]
          },
          "execution_count": 25,
          "metadata": {},
          "output_type": "execute_result"
        }
      ],
      "source": [
        "shipments"
      ]
    },
    {
      "cell_type": "markdown",
      "id": "ff219c61",
      "metadata": {
        "id": "ff219c61"
      },
      "source": [
        "### attempt 2\n",
        "Get all sets of shipments with size < shipment_limit and find set of sets that covers original set."
      ]
    },
    {
      "cell_type": "code",
      "execution_count": null,
      "id": "3da0d8bd",
      "metadata": {
        "id": "3da0d8bd"
      },
      "outputs": [],
      "source": [
        "from itertools import combinations\n",
        "cargo_combs = []\n",
        "for r in range(1, len(cargo) + 1):\n",
        "    for subset in combinations(cargo, r):\n",
        "        if sum([cargo[item] for item in subset]) < shipment_limit:\n",
        "            cargo_combs.append(set(subset))"
      ]
    },
    {
      "cell_type": "code",
      "execution_count": null,
      "id": "8a00d4a5",
      "metadata": {
        "id": "8a00d4a5"
      },
      "outputs": [],
      "source": [
        "shipments = []\n",
        "cargo_sets = set(cargo.keys())\n",
        "while cargo_sets:\n",
        "    cargo_set = max(cargo_combs, key=lambda itm: len(itm & cargo_sets))\n",
        "    shipments.append(cargo_set)\n",
        "    cargo_sets = cargo_sets - cargo_set"
      ]
    },
    {
      "cell_type": "code",
      "execution_count": null,
      "id": "d05e0bd2",
      "metadata": {
        "id": "d05e0bd2",
        "outputId": "50173081-33ad-4d64-e5ca-f89d9ffde85a"
      },
      "outputs": [
        {
          "data": {
            "text/plain": [
              "7"
            ]
          },
          "execution_count": 47,
          "metadata": {},
          "output_type": "execute_result"
        }
      ],
      "source": [
        "len(shipments)"
      ]
    },
    {
      "cell_type": "code",
      "execution_count": null,
      "id": "18f5ba89",
      "metadata": {
        "id": "18f5ba89",
        "outputId": "59fbf6e6-095f-4901-fa86-50f77ff0a66c"
      },
      "outputs": [
        {
          "data": {
            "text/plain": [
              "[{'Continer1', 'Continer2', 'Continer6'},\n",
              " {'Continer10', 'Continer5', 'Continer9'},\n",
              " {'Continer3'},\n",
              " {'Continer4'},\n",
              " {'Continer7'},\n",
              " {'Continer8'},\n",
              " {'Continer11'}]"
            ]
          },
          "execution_count": 48,
          "metadata": {},
          "output_type": "execute_result"
        }
      ],
      "source": [
        "shipments"
      ]
    }
  ],
  "metadata": {
    "kernelspec": {
      "display_name": "Python 3 (ipykernel)",
      "language": "python",
      "name": "python3"
    },
    "language_info": {
      "codemirror_mode": {
        "name": "ipython",
        "version": 3
      },
      "file_extension": ".py",
      "mimetype": "text/x-python",
      "name": "python",
      "nbconvert_exporter": "python",
      "pygments_lexer": "ipython3",
      "version": "3.7.13"
    },
    "colab": {
      "provenance": []
    }
  },
  "nbformat": 4,
  "nbformat_minor": 5
}