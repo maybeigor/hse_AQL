{
  "cells": [
    {
      "cell_type": "markdown",
      "id": "66755134",
      "metadata": {
        "id": "66755134"
      },
      "source": [
        "# Semianr 3&4 - Applied Quantitative Logistics"
      ]
    },
    {
      "cell_type": "code",
      "execution_count": null,
      "id": "ef7603b6",
      "metadata": {
        "id": "ef7603b6"
      },
      "outputs": [],
      "source": [
        "import random\n",
        "import math\n",
        "import numpy as np\n",
        "import pandas as pd\n",
        "import matplotlib.pyplot as plt"
      ]
    },
    {
      "cell_type": "markdown",
      "id": "d7277c8b",
      "metadata": {
        "id": "d7277c8b"
      },
      "source": [
        "# HW3 - Applied Quantitative Logistics\n",
        "\n",
        "Implement all other variants of Mutations which are explained below:\n",
        "\n",
        "1) **Displacement Mutation** is already implemented during the seminar, first, an index was generated then we changed the data of that index.\n",
        "\n",
        "2) **Swap Mutation** generates an index and swaps the data of that index with the next gene.\n",
        "\n",
        "3) **Big Swap Mutation** generates two random indexes and changes the data of the two indexes.\n",
        "\n",
        "4) **Inverse Mutation** generates two random indexes and then reverses the information of genes between two indexes.\n",
        "\n",
        "5) Write a function for Mutation to do all different types of Mutation randomly during the process of the Genetic Algorithm (As we did for a crossover)\n",
        "\n",
        "6) Implement a mutation rate (impact) to specify how many genes should be changed for **Displacement Mutation** (e.g if the nVar = 10 and the mu_rate=0.2 then the number of changes for mutation should be two genes in one mutation process)\n",
        "\n",
        "\n",
        "Instruction for submission:\n",
        "\n",
        "- Please submit your solutions in (.ipynb) format to my email (msohrabi@hse.ru).\n",
        "\n",
        "- Deadline: **February 24, 2023, 11:59 pm.**\n",
        "\n",
        "- The subject of the email and file name: **[HW3_AQL]-YOUR_NAME**"
      ]
    },
    {
      "cell_type": "markdown",
      "source": [
        "## 1"
      ],
      "metadata": {
        "id": "1EgYgP298vb1"
      },
      "id": "1EgYgP298vb1"
    },
    {
      "cell_type": "code",
      "execution_count": 2,
      "id": "a5b5aa12",
      "metadata": {
        "id": "a5b5aa12"
      },
      "outputs": [],
      "source": [
        "def displacement_mutation(binary_sequence, mutation_rate=0.01):\n",
        "    mutated_sequence = binary_sequence[:]\n",
        "    sequence_length = len(binary_sequence)\n",
        "    mutation_count = int(mutation_rate * sequence_length)\n",
        "    indices_to_mutate = random.sample(range(sequence_length), mutation_count)\n",
        "    \n",
        "    for index in indices_to_mutate:\n",
        "        mutated_sequence[index] = int(not mutated_sequence[index])\n",
        "    \n",
        "    return mutated_sequence"
      ]
    },
    {
      "cell_type": "markdown",
      "source": [
        "## 2"
      ],
      "metadata": {
        "id": "Jv7lDGEK8xy4"
      },
      "id": "Jv7lDGEK8xy4"
    },
    {
      "cell_type": "code",
      "execution_count": 3,
      "id": "ee546f17",
      "metadata": {
        "id": "ee546f17"
      },
      "outputs": [],
      "source": [
        "def swap_mutation(binary_sequence):\n",
        "    mutated_sequence = binary_sequence[:]\n",
        "    sequence_length = len(binary_sequence)\n",
        "    index_to_swap = random.randint(0, sequence_length-1)\n",
        "    next_index = (index_to_swap + 1) % sequence_length\n",
        "    mutated_sequence[index_to_swap], mutated_sequence[next_index] = mutated_sequence[next_index], mutated_sequence[index_to_swap]\n",
        "    return mutated_sequence"
      ]
    },
    {
      "cell_type": "markdown",
      "source": [
        "## 3"
      ],
      "metadata": {
        "id": "-yhwonzk8zhG"
      },
      "id": "-yhwonzk8zhG"
    },
    {
      "cell_type": "code",
      "execution_count": 4,
      "id": "25ffaf8c",
      "metadata": {
        "id": "25ffaf8c"
      },
      "outputs": [],
      "source": [
        "\n",
        "def big_swap_mutation(binary_sequence):\n",
        "    mutated_sequence = binary_sequence[:]\n",
        "    sequence_length = len(binary_sequence)\n",
        "    indices_to_swap = random.sample(range(sequence_length), 2)\n",
        "    mutated_sequence[indices_to_swap[0]], mutated_sequence[indices_to_swap[1]] = mutated_sequence[indices_to_swap[1]], mutated_sequence[indices_to_swap[0]]\n",
        "    return mutated_sequence"
      ]
    },
    {
      "cell_type": "markdown",
      "source": [
        "## 4"
      ],
      "metadata": {
        "id": "upkq2c_g80ni"
      },
      "id": "upkq2c_g80ni"
    },
    {
      "cell_type": "code",
      "execution_count": 5,
      "id": "974ab490",
      "metadata": {
        "id": "974ab490"
      },
      "outputs": [],
      "source": [
        "def inverse_mutation(binary_sequence):\n",
        "    mutated_sequence = binary_sequence[:]\n",
        "    sequence_length = len(binary_sequence)\n",
        "    indices_to_inverse = sorted(random.sample(range(sequence_length), 2))\n",
        "    for i in range(indices_to_inverse[0], indices_to_inverse[1] + 1):\n",
        "        mutated_sequence[i] = 1 - mutated_sequence[i]\n",
        "    return mutated_sequence"
      ]
    },
    {
      "cell_type": "markdown",
      "source": [
        "## 5"
      ],
      "metadata": {
        "id": "QEhBN1px82OP"
      },
      "id": "QEhBN1px82OP"
    },
    {
      "cell_type": "code",
      "source": [
        "def Mutation(x, mu_rate=None):\n",
        "    mutation_functions = [displacement_mutation, swap_mutation, big_swap_mutation, inverse_mutation]\n",
        "    method_idx = np.random.randint(len(mutation_functions))\n",
        "    mutation_function = mutation_functions[method_idx]\n",
        "\n",
        "    if mutation_function == displacement_mutation:\n",
        "        y = mutation_function(x, mu_rate=mu_rate)\n",
        "    else:\n",
        "        y = mutation_function(x)\n",
        "\n",
        "    return y"
      ],
      "metadata": {
        "id": "e0n3Oita420G"
      },
      "id": "e0n3Oita420G",
      "execution_count": 6,
      "outputs": []
    },
    {
      "cell_type": "markdown",
      "source": [
        "## 6"
      ],
      "metadata": {
        "id": "gXwLQUDu84DB"
      },
      "id": "gXwLQUDu84DB"
    },
    {
      "cell_type": "code",
      "source": [
        "def displacement_mutation(binary_sequence, nVar, mu_rate):\n",
        "    mutated_sequence = binary_sequence[:]\n",
        "    sequence_length = len(binary_sequence)\n",
        "    mutation_count = int(mu_rate * nVar)\n",
        "    indices_to_mutate = random.sample(range(sequence_length), mutation_count)\n",
        "    \n",
        "    for index in indices_to_mutate:\n",
        "        mutated_sequence[index] = int(not mutated_sequence[index])\n",
        "    \n",
        "    return mutated_sequence\n",
        "\n",
        "popm, popm_cost = [], []\n",
        "for k in range(1, nm):\n",
        "    # Select parent\n",
        "    rand = int(np.random.randint(nPop, size=1))\n",
        "    p = pop[rand]\n",
        "\n",
        "    # Apply Mutation\n",
        "    popm.append(displacement_mutation(p, nVar=10, mu_rate=0.2))\n",
        "\n",
        "    # Evaluate the offspring\n",
        "    popm_cost.append(MinOne(popm[-1]))"
      ],
      "metadata": {
        "id": "6aiE25vyCoNi"
      },
      "id": "6aiE25vyCoNi",
      "execution_count": null,
      "outputs": []
    }
  ],
  "metadata": {
    "kernelspec": {
      "display_name": "Python 3 (ipykernel)",
      "language": "python",
      "name": "python3"
    },
    "language_info": {
      "codemirror_mode": {
        "name": "ipython",
        "version": 3
      },
      "file_extension": ".py",
      "mimetype": "text/x-python",
      "name": "python",
      "nbconvert_exporter": "python",
      "pygments_lexer": "ipython3",
      "version": "3.9.12"
    },
    "colab": {
      "provenance": []
    }
  },
  "nbformat": 4,
  "nbformat_minor": 5
}